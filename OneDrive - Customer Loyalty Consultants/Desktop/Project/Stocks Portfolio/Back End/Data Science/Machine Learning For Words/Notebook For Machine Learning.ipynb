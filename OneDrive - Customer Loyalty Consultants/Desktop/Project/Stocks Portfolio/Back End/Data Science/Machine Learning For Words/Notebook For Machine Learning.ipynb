{
    "metadata": {
        "kernelspec": {
            "name": "python3",
            "display_name": "Python 3",
            "language": "python"
        },
        "language_info": {
            "name": "python",
            "version": "3.11.5",
            "mimetype": "text/x-python",
            "codemirror_mode": {
                "name": "ipython",
                "version": 3
            },
            "pygments_lexer": "ipython3",
            "nbconvert_exporter": "python",
            "file_extension": ".py"
        }
    },
    "nbformat_minor": 2,
    "nbformat": 4,
    "cells": [
        {
            "cell_type": "code",
            "source": [
                "from sqlalchemy import create_engine\r\n",
                "import pandas as pd\r\n",
                "\r\n",
                "# Connection parameters\r\n",
                "server = '192.168.10.15\\\\clcreports'\r\n",
                "database = 'Sandpit'\r\n",
                "\r\n",
                "# Construct the connection string for Windows authentication\r\n",
                "conn_str = f'mssql+pyodbc://{server}/{database}?trusted_connection=yes&driver=ODBC+Driver+17+for+SQL+Server'\r\n",
                "\r\n",
                "# Create the SQLAlchemy engine\r\n",
                "engine = create_engine(conn_str)\r\n",
                "\r\n",
                "# Now you can execute SQL queries using the engine\r\n",
                "# For example, to fetch all rows from a table named 'YourTableName':\r\n",
                "query = \"SELECT * FROM products\"\r\n",
                "result = engine.execute(query).fetchall()\r\n",
                "\r\n",
                "# Convert the result into a DataFrame\r\n",
                "df = pd.DataFrame(result)\r\n",
                "\r\n",
                "# Now df contains your data in a DataFrame format\r\n",
                "print(df)\r\n",
                ""
            ],
            "metadata": {
                "azdata_cell_guid": "eec68f29-9bb4-45ce-8d96-bb2697e7d1f3",
                "language": "python",
                "tags": []
            },
            "outputs": [
                {
                    "name": "stderr",
                    "text": "\nKeyboardInterrupt\n\n",
                    "output_type": "stream"
                }
            ],
            "execution_count": 1
        }
    ]
}